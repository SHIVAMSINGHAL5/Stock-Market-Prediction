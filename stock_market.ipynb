{
  "nbformat": 4,
  "nbformat_minor": 0,
  "metadata": {
    "colab": {
      "name": "stock market.ipynb",
      "provenance": []
    },
    "kernelspec": {
      "name": "python3",
      "display_name": "Python 3"
    },
    "language_info": {
      "name": "python"
    }
  },
  "cells": [
    {
      "cell_type": "markdown",
      "metadata": {
        "id": "UxflKVcp-X1J"
      },
      "source": [
        "**Data Import**"
      ]
    },
    {
      "cell_type": "code",
      "metadata": {
        "colab": {
          "base_uri": "https://localhost:8080/"
        },
        "id": "fq_BBMgmtDgk",
        "outputId": "1620e4f9-f99b-4b92-c69e-476a451a1e3f"
      },
      "source": [
        "!pip install yfinance\n",
        "!pip install finta\n",
      ],
      "execution_count": null,
      "outputs": [
        {
          "output_type": "stream",
          "text": [
            "Requirement already satisfied: yfinance in /usr/local/lib/python3.7/dist-packages (0.1.59)\n",
            "Requirement already satisfied: requests>=2.20 in /usr/local/lib/python3.7/dist-packages (from yfinance) (2.23.0)\n",
            "Requirement already satisfied: lxml>=4.5.1 in /usr/local/lib/python3.7/dist-packages (from yfinance) (4.6.3)\n",
            "Requirement already satisfied: pandas>=0.24 in /usr/local/lib/python3.7/dist-packages (from yfinance) (1.1.5)\n",
            "Requirement already satisfied: multitasking>=0.0.7 in /usr/local/lib/python3.7/dist-packages (from yfinance) (0.0.9)\n",
            "Requirement already satisfied: numpy>=1.15 in /usr/local/lib/python3.7/dist-packages (from yfinance) (1.19.5)\n",
            "Requirement already satisfied: urllib3!=1.25.0,!=1.25.1,<1.26,>=1.21.1 in /usr/local/lib/python3.7/dist-packages (from requests>=2.20->yfinance) (1.24.3)\n",
            "Requirement already satisfied: certifi>=2017.4.17 in /usr/local/lib/python3.7/dist-packages (from requests>=2.20->yfinance) (2020.12.5)\n",
            "Requirement already satisfied: idna<3,>=2.5 in /usr/local/lib/python3.7/dist-packages (from requests>=2.20->yfinance) (2.10)\n",
            "Requirement already satisfied: chardet<4,>=3.0.2 in /usr/local/lib/python3.7/dist-packages (from requests>=2.20->yfinance) (3.0.4)\n",
            "Requirement already satisfied: python-dateutil>=2.7.3 in /usr/local/lib/python3.7/dist-packages (from pandas>=0.24->yfinance) (2.8.1)\n",
            "Requirement already satisfied: pytz>=2017.2 in /usr/local/lib/python3.7/dist-packages (from pandas>=0.24->yfinance) (2018.9)\n",
            "Requirement already satisfied: six>=1.5 in /usr/local/lib/python3.7/dist-packages (from python-dateutil>=2.7.3->pandas>=0.24->yfinance) (1.15.0)\n",
            "Requirement already satisfied: finta in /usr/local/lib/python3.7/dist-packages (1.3)\n",
            "Requirement already satisfied: pandas in /usr/local/lib/python3.7/dist-packages (from finta) (1.1.5)\n",
            "Requirement already satisfied: numpy in /usr/local/lib/python3.7/dist-packages (from finta) (1.19.5)\n",
            "Requirement already satisfied: pytz>=2017.2 in /usr/local/lib/python3.7/dist-packages (from pandas->finta) (2018.9)\n",
            "Requirement already satisfied: python-dateutil>=2.7.3 in /usr/local/lib/python3.7/dist-packages (from pandas->finta) (2.8.1)\n",
            "Requirement already satisfied: six>=1.5 in /usr/local/lib/python3.7/dist-packages (from python-dateutil>=2.7.3->pandas->finta) (1.15.0)\n",
            "Requirement already satisfied: catboost in /usr/local/lib/python3.7/dist-packages (0.25.1)\n",
            "Requirement already satisfied: scipy in /usr/local/lib/python3.7/dist-packages (from catboost) (1.4.1)\n",
            "Requirement already satisfied: graphviz in /usr/local/lib/python3.7/dist-packages (from catboost) (0.10.1)\n",
            "Requirement already satisfied: plotly in /usr/local/lib/python3.7/dist-packages (from catboost) (4.4.1)\n",
            "Requirement already satisfied: pandas>=0.24.0 in /usr/local/lib/python3.7/dist-packages (from catboost) (1.1.5)\n",
            "Requirement already satisfied: numpy>=1.16.0 in /usr/local/lib/python3.7/dist-packages (from catboost) (1.19.5)\n",
            "Requirement already satisfied: matplotlib in /usr/local/lib/python3.7/dist-packages (from catboost) (3.2.2)\n",
            "Requirement already satisfied: six in /usr/local/lib/python3.7/dist-packages (from catboost) (1.15.0)\n",
            "Requirement already satisfied: retrying>=1.3.3 in /usr/local/lib/python3.7/dist-packages (from plotly->catboost) (1.3.3)\n",
            "Requirement already satisfied: python-dateutil>=2.7.3 in /usr/local/lib/python3.7/dist-packages (from pandas>=0.24.0->catboost) (2.8.1)\n",
            "Requirement already satisfied: pytz>=2017.2 in /usr/local/lib/python3.7/dist-packages (from pandas>=0.24.0->catboost) (2018.9)\n",
            "Requirement already satisfied: kiwisolver>=1.0.1 in /usr/local/lib/python3.7/dist-packages (from matplotlib->catboost) (1.3.1)\n",
            "Requirement already satisfied: pyparsing!=2.0.4,!=2.1.2,!=2.1.6,>=2.0.1 in /usr/local/lib/python3.7/dist-packages (from matplotlib->catboost) (2.4.7)\n",
            "Requirement already satisfied: cycler>=0.10 in /usr/local/lib/python3.7/dist-packages (from matplotlib->catboost) (0.10.0)\n"
          ],
          "name": "stdout"
        }
      ]
    },
    {
      "cell_type": "code",
      "metadata": {
        "id": "qAT4LL10tOIx"
      },
      "source": [
        "import math\n",
        "import datetime\n",
        "import numpy as np\n",
        "import pandas as pd\n",
        "from finta import TA\n",
        "import yfinance as yf\n",
        "from sklearn import svm\n",
        "import matplotlib.pyplot as plt\n",
        "plt.style.use('fivethirtyeight')\n",
        "from xgboost import XGBClassifier\n",
        "from keras.models import Sequential\n",
        "from keras.layers import Dense, LSTM\n",
        "from sklearn.preprocessing import MinMaxScaler\n",
        "from sklearn.neighbors import KNeighborsClassifier\n",
        "from sklearn.model_selection import train_test_split, GridSearchCV\n",
        "from sklearn.ensemble import RandomForestClassifier, GradientBoostingClassifier, VotingClassifier \n",
        "from sklearn.metrics import confusion_matrix, classification_report, mean_squared_error, accuracy_score\n",
        "from catboost import CatBoostClassifier\n",
        "from sklearn.ensemble import GradientBoostingClassifier\n"
      ],
      "execution_count": null,
      "outputs": []
    },
    {
      "cell_type": "markdown",
      "metadata": {
        "id": "gyG8-awL_faB"
      },
      "source": [
        "**Data Collection and Processing**"
      ]
    },
    {
      "cell_type": "code",
      "metadata": {
        "id": "GrNR6oL3tSY5"
      },
      "source": [
        "date_range = 10000\n",
        "gap = '1d'\n",
        "symbol = 'AAPL'      \n",
        "INDICATORS = ['RSI', 'MACD', 'STOCH','ADL', 'ATR', 'MOM', 'MFI', 'ROC', 'OBV', 'CCI', 'EMV', 'VORTEX']"
      ],
      "execution_count": null,
      "outputs": []
    },
    {
      "cell_type": "code",
      "metadata": {
        "colab": {
          "base_uri": "https://localhost:8080/",
          "height": 357
        },
        "id": "yr6CAv4LtsOg",
        "outputId": "467c6166-8c30-4364-c090-0b4b58c10475"
      },
      "source": [
        "start = (datetime.date.today() - datetime.timedelta( date_range ) )\n",
        "end = datetime.datetime.today()\n",
        "\n",
        "data = yf.download(symbol, start=start, end=end, interval=gap)\n",
        "data.rename(columns={\"Close\": 'close', \"High\": 'high', \"Low\": 'low', 'Volume': 'volume', 'Open': 'open'}, inplace=True)\n",
        "print(len(data))\n",
        "\n",
        "tmp = data.iloc[-60:]\n",
        "tmp['close'].plot()\n",
        "\n",
        "def smooth(data, alpha):\n",
        "    return data.ewm(alpha=alpha).mean()\n",
        "\n",
        "data = smooth(data, 0.75)\n",
        "tmp1 = data.iloc[-60:]\n",
        "tmp1['close'].plot()"
      ],
      "execution_count": null,
      "outputs": [
        {
          "output_type": "stream",
          "text": [
            "\r[*********************100%***********************]  1 of 1 completed\n",
            "6891\n"
          ],
          "name": "stdout"
        },
        {
          "output_type": "execute_result",
          "data": {
            "text/plain": [
              "<matplotlib.axes._subplots.AxesSubplot at 0x7fe0d8b175d0>"
            ]
          },
          "metadata": {
            "tags": []
          },
          "execution_count": 4
        },
        {
          "output_type": "display_data",
          "data": {
            "image/png": "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\n",
            "text/plain": [
              "<Figure size 432x288 with 1 Axes>"
            ]
          },
          "metadata": {
            "tags": []
          }
        }
      ]
    },
    {
      "cell_type": "markdown",
      "metadata": {
        "id": "YLX3buT1_oUP"
      },
      "source": [
        " **Feature Engineering**"
      ]
    },
    {
      "cell_type": "code",
      "metadata": {
        "colab": {
          "base_uri": "https://localhost:8080/"
        },
        "id": "-tg5mJahtv2R",
        "outputId": "df1b7a66-26be-4375-94fa-6d2891d1823a"
      },
      "source": [
        "def feature_eng(data):\n",
        "\n",
        "    for indicator in INDICATORS:\n",
        "        ind_data = eval('TA.' + indicator + '(data)')\n",
        "        if not isinstance(ind_data, pd.DataFrame):\n",
        "            ind_data = ind_data.to_frame()\n",
        "        data = data.merge(ind_data, left_index=True, right_index=True)\n",
        "    data.rename(columns={\"14 period EMV.\": '14 period EMV'}, inplace=True)\n",
        "    data['ema50'] = data['close'] / data['close'].ewm(50).mean()\n",
        "    data['ema21'] = data['close'] / data['close'].ewm(21).mean()\n",
        "    data['ema15'] = data['close'] / data['close'].ewm(14).mean()\n",
        "    data['ema5'] = data['close'] / data['close'].ewm(5).mean()\n",
        "    data['normVol'] = data['volume'] / data['volume'].ewm(5).mean()\n",
        "    del (data['open'])\n",
        "    del (data['high'])\n",
        "    del (data['low'])\n",
        "    del (data['volume'])\n",
        "    del (data['Adj Close'])\n",
        "    return data\n",
        "\n",
        "data = feature_eng(data)\n",
        "print(data.columns)"
      ],
      "execution_count": null,
      "outputs": [
        {
          "output_type": "stream",
          "text": [
            "Index(['close', '14 period RSI', 'MACD', 'SIGNAL', '14 period STOCH %K', 'MFV',\n",
            "       '14 period ATR', 'MOM', '14 period MFI', 'ROC', 'OBV', '20 period CCI',\n",
            "       '14 period EMV', 'VIm', 'VIp', 'ema50', 'ema21', 'ema15', 'ema5',\n",
            "       'normVol'],\n",
            "      dtype='object')\n"
          ],
          "name": "stdout"
        }
      ]
    },
    {
      "cell_type": "code",
      "metadata": {
        "colab": {
          "base_uri": "https://localhost:8080/"
        },
        "id": "4fKh5RreuDf0",
        "outputId": "d1fa3604-8996-4800-c393-5874a2cdbaa4"
      },
      "source": [
        "live_pred_data = data.iloc[-16:-11]\n",
        "def predi(data, window):\n",
        "    prediction = (data.shift(-window)['close'] >= data['close'])\n",
        "    prediction = prediction.iloc[:-window]\n",
        "    data['pred'] = prediction.astype(int)\n",
        "    return data\n",
        "\n",
        "data = predi(data, window=15)\n",
        "#del (data['close'])\n",
        "data = data.dropna()\n",
        "data.tail()\n",
        "print(len(data))"
      ],
      "execution_count": null,
      "outputs": [
        {
          "output_type": "stream",
          "text": [
            "6862\n"
          ],
          "name": "stdout"
        }
      ]
    },
    {
      "cell_type": "markdown",
      "metadata": {
        "id": "-5H9aeOTB5es"
      },
      "source": [
        "**Building the Ensemble Model**"
      ]
    },
    {
      "cell_type": "code",
      "metadata": {
        "colab": {
          "base_uri": "https://localhost:8080/"
        },
        "id": "oFGYFIbOHhlV",
        "outputId": "f506cacd-bda1-4885-abf0-10ac0777d976"
      },
      "source": [
        "count = 0\n",
        "total = 0\n",
        "num_train = 10\n",
        "len_train = 40\n",
        "rf_RESULTS = []\n",
        "knn_RESULTS = []\n",
        "#cat_RESULTS = []\n",
        "xg_RESULTS = []\n",
        "gb_RESULTS = []\n",
        "ensemble_RESULTS = []\n",
        "\n",
        "i = 0\n",
        "\n",
        "rf = RandomForestClassifier()\n",
        "knn = KNeighborsClassifier()\n",
        "#xg = XGBClassifier()\n",
        "#cat = CatBoostClassifier()\n",
        "gb= GradientBoostingClassifier()\n",
        "estimators=[('knn', knn), ('rf', rf) , ('gb',gb) ]\n",
        "ensemble = VotingClassifier(estimators, voting='soft')\n",
        "\n",
        "while True:\n",
        "    df = data.iloc[i * num_train : (i * num_train) + len_train]\n",
        "    i += 1\n",
        "    if len(df) < 40:\n",
        "        break\n",
        "    y = df['pred']\n",
        "    features = [x for x in df.columns if x not in ['pred']]\n",
        "    X = df[features]\n",
        "    X_train, X_test, y_train, y_test = train_test_split(X, y, train_size= 0.8 ,shuffle = False)\n",
        "    \n",
        "    rf.fit(X_train, y_train)\n",
        "    rf_prediction = rf.predict(X_test)\n",
        "    rf_accuracy = accuracy_score(y_test.values, rf_prediction)\n",
        "    rf_RESULTS.append(rf_accuracy)\n",
        "\n",
        "    knn.fit(X_train, y_train)\n",
        "    knn_prediction = knn.predict(X_test)\n",
        "    knn_accuracy = accuracy_score(y_test.values, knn_prediction)\n",
        "    knn_RESULTS.append(knn_accuracy)\n",
        "    try:\n",
        "      gb.fit(X_train, y_train)\n",
        "      gb_prediction = gb.predict(X_test)\n",
        "    except:\n",
        "      total+=1\n",
        "      continue\n",
        "    gb_accuracy = accuracy_score(y_test.values, gb_prediction)\n",
        "    gb_RESULTS.append(gb_accuracy)\n",
        "    ensemble.fit(X_train, y_train)\n",
        "    ensemble_prediction = ensemble.predict(X_test)\n",
        "    ensemble_accuracy = accuracy_score(y_test.values, ensemble_prediction)\n",
        "    ensemble_RESULTS.append(ensemble_accuracy)\n",
        "    count+=1\n",
        "    \"\"\" try:\n",
        "      \n",
        "      xg.fit(X_train, y_train)\n",
        "      xg_prediction = xg.predict(X_test)\n",
        "      gb_accuracy = accuracy_score(y_test.values, xg_prediction)\n",
        "      xg_RESULTS.append(xg_accuracy)\n",
        "      per_X_train = X_train\n",
        "      per_y_train = y_train\n",
        "\n",
        "      \n",
        "\n",
        "    except:\n",
        "      if 'per_X_train' in locals():\n",
        "        gb.fit(per_X_train, per_y_train)\n",
        "        ensemble.fit(per_X_train, per_y_train)\n",
        "        ensemble_prediction = ensemble.predict(X_test)\n",
        "        ensemble_accuracy = accuracy_score(y_test.values, ensemble_prediction)\n",
        "        ensemble_RESULTS.append(ensemble_accuracy)   \n",
        "        count+=1\n",
        "        \n",
        "    cat.fit(X_train, y_train)\n",
        "    cat_prediction = cat.predict(X_test)\n",
        "    cat_accuracy = accuracy_score(y_test.values, cat_prediction)\n",
        "    cat_RESULTS.append(cat_accuracy)\n",
        "    \"\"\"       \n",
        "\n",
        "print('RF Accuracy = ' + str( sum(rf_RESULTS) / len(rf_RESULTS)))\n",
        "print('KNN Accuracy = ' + str( sum(knn_RESULTS) / len(knn_RESULTS)))\n",
        "#print('XG Accuracy = ' + str( sum(xg_RESULTS) / len(xg_RESULTS)))\n",
        "#print('CAT Accuracy = ' + str( sum(cat_RESULTS) / len(cat_RESULTS)))\n",
        "print('GB Accuracy = ' + str( sum(gb_RESULTS) / len(gb_RESULTS)))\n",
        "print('ENSEMBLE Accuracy = ' + str( sum(ensemble_RESULTS) / len(ensemble_RESULTS)))"
      ],
      "execution_count": null,
      "outputs": [
        {
          "output_type": "stream",
          "text": [
            "RF Accuracy = 0.7154099560761347\n",
            "KNN Accuracy = 0.6733162518301611\n",
            "GB Accuracy = 0.7026143790849673\n",
            "ENSEMBLE Accuracy = 0.715890522875817\n"
          ],
          "name": "stdout"
        }
      ]
    },
    {
      "cell_type": "code",
      "metadata": {
        "id": "xKwiAZG-TRRy"
      },
      "source": [
        "import pickle\n",
        "pkl_filename = \"ensemble.pkl\"\n",
        "with open(pkl_filename, 'wb') as file:\n",
        "    pickle.dump(ensemble, file)"
      ],
      "execution_count": null,
      "outputs": []
    },
    {
      "cell_type": "code",
      "metadata": {
        "colab": {
          "base_uri": "https://localhost:8080/"
        },
        "id": "7laUCEnzUJZF",
        "outputId": "232594b3-be92-459f-efbf-f6376647c0bf"
      },
      "source": [
        "!gdown --id 11BF0tz9cvT4obG-voKWSmRLe9Ru9TN_M"
      ],
      "execution_count": null,
      "outputs": [
        {
          "output_type": "stream",
          "text": [
            "Downloading...\n",
            "From: https://drive.google.com/uc?id=11BF0tz9cvT4obG-voKWSmRLe9Ru9TN_M\n",
            "To: /content/ensemble.pkl\n",
            "\r  0% 0.00/325k [00:00<?, ?B/s]\r100% 325k/325k [00:00<00:00, 20.8MB/s]\n"
          ],
          "name": "stdout"
        }
      ]
    },
    {
      "cell_type": "code",
      "metadata": {
        "id": "UG9JSOo2TbGt"
      },
      "source": [
        "pkl_filename = \"ensemble.pkl\"\n",
        "with open(pkl_filename, 'rb') as file:\n",
        "    ensemble = pickle.load(file)"
      ],
      "execution_count": null,
      "outputs": []
    },
    {
      "cell_type": "markdown",
      "metadata": {
        "id": "hxOVySf3DZb7"
      },
      "source": [
        "**Results Prediction**"
      ]
    },
    {
      "cell_type": "code",
      "metadata": {
        "colab": {
          "base_uri": "https://localhost:8080/"
        },
        "id": "L7B5sRGkuybh",
        "outputId": "4fd7f977-a225-4948-eb1d-706773154c9c"
      },
      "source": [
        "df = data.iloc[-200:]\n",
        "y = df['pred']\n",
        "features = [x for x in df.columns if x not in ['pred']]\n",
        "X = df[features]\n",
        "X_train, X_test, y_train, y_test = train_test_split(X, y, train_size= 0.8 ,shuffle = False)\n",
        "ensemble_prediction = ensemble.predict(X_test)\n",
        "accuracy_score(y_test.values, ensemble_prediction)"
      ],
      "execution_count": null,
      "outputs": [
        {
          "output_type": "execute_result",
          "data": {
            "text/plain": [
              "0.95"
            ]
          },
          "metadata": {
            "tags": []
          },
          "execution_count": 45
        }
      ]
    },
    {
      "cell_type": "markdown",
      "metadata": {
        "id": "VtzSEsjuDh_b"
      },
      "source": [
        "**Confusion Matrix**"
      ]
    },
    {
      "cell_type": "code",
      "metadata": {
        "colab": {
          "base_uri": "https://localhost:8080/",
          "height": 304
        },
        "id": "sTm9CW3tWTrg",
        "outputId": "8a9b55b7-af40-40c2-8706-3fe6312ab6a0"
      },
      "source": [
        "from sklearn.metrics import confusion_matrix\n",
        "import seaborn as sns\n",
        "cf_matrix = confusion_matrix(ensemble_prediction, y_test)\n",
        "cf_matrix\n",
        "sns.heatmap(cf_matrix, annot=True, cmap='Blues')"
      ],
      "execution_count": null,
      "outputs": [
        {
          "output_type": "execute_result",
          "data": {
            "text/plain": [
              "<matplotlib.axes._subplots.AxesSubplot at 0x7fe0ce474a50>"
            ]
          },
          "metadata": {
            "tags": []
          },
          "execution_count": 46
        },
        {
          "output_type": "display_data",
          "data": {
            "image/png": "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\n",
            "text/plain": [
              "<Figure size 432x288 with 2 Axes>"
            ]
          },
          "metadata": {
            "tags": []
          }
        }
      ]
    },
    {
      "cell_type": "markdown",
      "metadata": {
        "id": "dgs6ga-gxF7v"
      },
      "source": [
        "**Closing Price Prediction using LSTM**"
      ]
    },
    {
      "cell_type": "markdown",
      "metadata": {
        "id": "ubkXxIb-EJbg"
      },
      "source": [
        "**Importing and Reading the Dataset**"
      ]
    },
    {
      "cell_type": "code",
      "metadata": {
        "colab": {
          "base_uri": "https://localhost:8080/"
        },
        "id": "GW-sWSmtwyzk",
        "outputId": "03172f25-1c70-4595-f2f3-181fadbc5e93"
      },
      "source": [
        "!gdown --id 1xpvtmyzeG7BPvqxqI0qlq9qEzFyUOVu4"
      ],
      "execution_count": null,
      "outputs": [
        {
          "output_type": "stream",
          "text": [
            "Downloading...\n",
            "From: https://drive.google.com/uc?id=1xpvtmyzeG7BPvqxqI0qlq9qEzFyUOVu4\n",
            "To: /content/prices-split-adjusted.csv\n",
            "\r0.00B [00:00, ?B/s]\r11.5MB [00:00, 114MB/s]\r41.4MB [00:00, 140MB/s]\r52.7MB [00:00, 198MB/s]\n"
          ],
          "name": "stdout"
        }
      ]
    },
    {
      "cell_type": "code",
      "metadata": {
        "colab": {
          "base_uri": "https://localhost:8080/",
          "height": 406
        },
        "id": "JZ6pQtE8xLLh",
        "outputId": "c67b9bd4-967e-47bd-a73a-4e2c02beeac1"
      },
      "source": [
        "data = pd.read_csv('prices-split-adjusted.csv')\n",
        "data.isnull().sum()\n",
        "data = data.loc[(data['symbol'] == 'AAPL')]\n",
        "data = data.drop(columns=['symbol'])\n",
        "data = data[['date','open','close','low','volume','high']]\n",
        "data"
      ],
      "execution_count": null,
      "outputs": [
        {
          "output_type": "execute_result",
          "data": {
            "text/html": [
              "<div>\n",
              "<style scoped>\n",
              "    .dataframe tbody tr th:only-of-type {\n",
              "        vertical-align: middle;\n",
              "    }\n",
              "\n",
              "    .dataframe tbody tr th {\n",
              "        vertical-align: top;\n",
              "    }\n",
              "\n",
              "    .dataframe thead th {\n",
              "        text-align: right;\n",
              "    }\n",
              "</style>\n",
              "<table border=\"1\" class=\"dataframe\">\n",
              "  <thead>\n",
              "    <tr style=\"text-align: right;\">\n",
              "      <th></th>\n",
              "      <th>date</th>\n",
              "      <th>open</th>\n",
              "      <th>close</th>\n",
              "      <th>low</th>\n",
              "      <th>volume</th>\n",
              "      <th>high</th>\n",
              "    </tr>\n",
              "  </thead>\n",
              "  <tbody>\n",
              "    <tr>\n",
              "      <th>254</th>\n",
              "      <td>2010-01-04</td>\n",
              "      <td>30.490000</td>\n",
              "      <td>30.572857</td>\n",
              "      <td>30.340000</td>\n",
              "      <td>123432400.0</td>\n",
              "      <td>30.642857</td>\n",
              "    </tr>\n",
              "    <tr>\n",
              "      <th>721</th>\n",
              "      <td>2010-01-05</td>\n",
              "      <td>30.657143</td>\n",
              "      <td>30.625713</td>\n",
              "      <td>30.464285</td>\n",
              "      <td>150476200.0</td>\n",
              "      <td>30.798571</td>\n",
              "    </tr>\n",
              "    <tr>\n",
              "      <th>1189</th>\n",
              "      <td>2010-01-06</td>\n",
              "      <td>30.625713</td>\n",
              "      <td>30.138571</td>\n",
              "      <td>30.107143</td>\n",
              "      <td>138040000.0</td>\n",
              "      <td>30.747143</td>\n",
              "    </tr>\n",
              "    <tr>\n",
              "      <th>1657</th>\n",
              "      <td>2010-01-07</td>\n",
              "      <td>30.250000</td>\n",
              "      <td>30.082857</td>\n",
              "      <td>29.864286</td>\n",
              "      <td>119282800.0</td>\n",
              "      <td>30.285715</td>\n",
              "    </tr>\n",
              "    <tr>\n",
              "      <th>2125</th>\n",
              "      <td>2010-01-08</td>\n",
              "      <td>30.042856</td>\n",
              "      <td>30.282858</td>\n",
              "      <td>29.865715</td>\n",
              "      <td>111902700.0</td>\n",
              "      <td>30.285715</td>\n",
              "    </tr>\n",
              "    <tr>\n",
              "      <th>...</th>\n",
              "      <td>...</td>\n",
              "      <td>...</td>\n",
              "      <td>...</td>\n",
              "      <td>...</td>\n",
              "      <td>...</td>\n",
              "      <td>...</td>\n",
              "    </tr>\n",
              "    <tr>\n",
              "      <th>848767</th>\n",
              "      <td>2016-12-23</td>\n",
              "      <td>115.589996</td>\n",
              "      <td>116.519997</td>\n",
              "      <td>115.589996</td>\n",
              "      <td>14249500.0</td>\n",
              "      <td>116.519997</td>\n",
              "    </tr>\n",
              "    <tr>\n",
              "      <th>849267</th>\n",
              "      <td>2016-12-27</td>\n",
              "      <td>116.519997</td>\n",
              "      <td>117.260002</td>\n",
              "      <td>116.489998</td>\n",
              "      <td>18296900.0</td>\n",
              "      <td>117.800003</td>\n",
              "    </tr>\n",
              "    <tr>\n",
              "      <th>849767</th>\n",
              "      <td>2016-12-28</td>\n",
              "      <td>117.519997</td>\n",
              "      <td>116.760002</td>\n",
              "      <td>116.199997</td>\n",
              "      <td>20905900.0</td>\n",
              "      <td>118.019997</td>\n",
              "    </tr>\n",
              "    <tr>\n",
              "      <th>850267</th>\n",
              "      <td>2016-12-29</td>\n",
              "      <td>116.449997</td>\n",
              "      <td>116.730003</td>\n",
              "      <td>116.400002</td>\n",
              "      <td>15039500.0</td>\n",
              "      <td>117.110001</td>\n",
              "    </tr>\n",
              "    <tr>\n",
              "      <th>850767</th>\n",
              "      <td>2016-12-30</td>\n",
              "      <td>116.650002</td>\n",
              "      <td>115.820000</td>\n",
              "      <td>115.430000</td>\n",
              "      <td>30586300.0</td>\n",
              "      <td>117.199997</td>\n",
              "    </tr>\n",
              "  </tbody>\n",
              "</table>\n",
              "<p>1762 rows × 6 columns</p>\n",
              "</div>"
            ],
            "text/plain": [
              "              date        open       close         low       volume        high\n",
              "254     2010-01-04   30.490000   30.572857   30.340000  123432400.0   30.642857\n",
              "721     2010-01-05   30.657143   30.625713   30.464285  150476200.0   30.798571\n",
              "1189    2010-01-06   30.625713   30.138571   30.107143  138040000.0   30.747143\n",
              "1657    2010-01-07   30.250000   30.082857   29.864286  119282800.0   30.285715\n",
              "2125    2010-01-08   30.042856   30.282858   29.865715  111902700.0   30.285715\n",
              "...            ...         ...         ...         ...          ...         ...\n",
              "848767  2016-12-23  115.589996  116.519997  115.589996   14249500.0  116.519997\n",
              "849267  2016-12-27  116.519997  117.260002  116.489998   18296900.0  117.800003\n",
              "849767  2016-12-28  117.519997  116.760002  116.199997   20905900.0  118.019997\n",
              "850267  2016-12-29  116.449997  116.730003  116.400002   15039500.0  117.110001\n",
              "850767  2016-12-30  116.650002  115.820000  115.430000   30586300.0  117.199997\n",
              "\n",
              "[1762 rows x 6 columns]"
            ]
          },
          "metadata": {
            "tags": []
          },
          "execution_count": 13
        }
      ]
    },
    {
      "cell_type": "code",
      "metadata": {
        "colab": {
          "base_uri": "https://localhost:8080/"
        },
        "id": "ShkFp6p_xQxN",
        "outputId": "ac4bf6e9-49ef-4969-82d1-01f5726428d9"
      },
      "source": [
        "data.shape"
      ],
      "execution_count": null,
      "outputs": [
        {
          "output_type": "execute_result",
          "data": {
            "text/plain": [
              "(1762, 6)"
            ]
          },
          "metadata": {
            "tags": []
          },
          "execution_count": 14
        }
      ]
    },
    {
      "cell_type": "markdown",
      "metadata": {
        "id": "PLoK5dM5EfFC"
      },
      "source": [
        "**Plotting the Dataset**"
      ]
    },
    {
      "cell_type": "code",
      "metadata": {
        "colab": {
          "base_uri": "https://localhost:8080/",
          "height": 558
        },
        "id": "6Ov5dBxrxSNG",
        "outputId": "24491db2-263d-4ef5-a1e7-c923af71f514"
      },
      "source": [
        "plt.figure(figsize=(16,8))\n",
        "plt.title('Closing Price of the Stock Historically')\n",
        "plt.plot(data['close'])\n",
        "plt.xlabel('Year', fontsize=20)\n",
        "plt.ylabel('Closing Price Historically ($)', fontsize=20)\n",
        "plt.show()"
      ],
      "execution_count": null,
      "outputs": [
        {
          "output_type": "display_data",
          "data": {
            "image/png": "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\n",
            "text/plain": [
              "<Figure size 1152x576 with 1 Axes>"
            ]
          },
          "metadata": {
            "tags": []
          }
        }
      ]
    },
    {
      "cell_type": "code",
      "metadata": {
        "colab": {
          "base_uri": "https://localhost:8080/"
        },
        "id": "Y1BvDWoUxTVW",
        "outputId": "9391507f-0ff1-4581-c995-26a902206f23"
      },
      "source": [
        "\n",
        "data = data.filter(['close'])\n",
        "dataset = data.values\n",
        "\n",
        "#Find out the number of rows that are present in this dataset in order to train our model.\n",
        "training_data_len = math.ceil(len(dataset)* .9)\n",
        "training_data_len\n",
        "scaler = MinMaxScaler(feature_range=(0,1))\n",
        "scaled_data = scaler.fit_transform(dataset)\n",
        "scaled_data"
      ],
      "execution_count": null,
      "outputs": [
        {
          "output_type": "execute_result",
          "data": {
            "text/plain": [
              "array([[0.02971784],\n",
              "       [0.03021854],\n",
              "       [0.02560389],\n",
              "       ...,\n",
              "       [0.84616011],\n",
              "       [0.84587593],\n",
              "       [0.83725556]])"
            ]
          },
          "metadata": {
            "tags": []
          },
          "execution_count": 16
        }
      ]
    },
    {
      "cell_type": "code",
      "metadata": {
        "colab": {
          "base_uri": "https://localhost:8080/"
        },
        "id": "209LXwLFxX0B",
        "outputId": "c05a3199-7bb9-49e0-f351-40d3d818af96"
      },
      "source": [
        "train_data = scaled_data[0:training_data_len , :]\n",
        "x_train = []\n",
        "y_train = []\n",
        "\n",
        "for j in range(60, len(train_data)):\n",
        "    x_train.append(train_data[j-60:j,0])\n",
        "    y_train.append(train_data[j,0])\n",
        "    if j<=60:\n",
        "        print(x_train)\n",
        "        print(y_train)\n",
        "        print()"
      ],
      "execution_count": null,
      "outputs": [
        {
          "output_type": "stream",
          "text": [
            "[array([2.97178362e-02, 3.02185399e-02, 2.56038867e-02, 2.50761176e-02,\n",
            "       2.69707045e-02, 2.44400840e-02, 2.12057623e-02, 2.51708493e-02,\n",
            "       2.35198553e-02, 1.87834049e-02, 3.11117019e-02, 2.66323798e-02,\n",
            "       2.16794006e-02, 7.71364371e-03, 1.49130510e-02, 1.87969390e-02,\n",
            "       2.14222912e-02, 9.79767512e-03, 1.35327151e-05, 3.62676096e-03,\n",
            "       5.15595645e-03, 9.71647747e-03, 0.00000000e+00, 4.61465324e-03,\n",
            "       2.80126397e-03, 5.60254553e-03, 4.15454904e-03, 8.95864541e-03,\n",
            "       1.12727384e-02, 1.53596225e-02, 1.42093512e-02, 1.47235876e-02,\n",
            "       1.30184627e-02, 1.13268706e-02, 6.77988365e-03, 1.16516639e-02,\n",
            "       1.34650532e-02, 1.70106151e-02, 2.29244212e-02, 2.27349578e-02,\n",
            "       2.33845254e-02, 2.52520469e-02, 3.64030071e-02, 3.65789175e-02,\n",
            "       4.19108209e-02, 4.43737602e-02, 4.52669398e-02, 4.67555357e-02,\n",
            "       4.30204928e-02, 4.38459898e-02, 4.33994183e-02, 4.41166508e-02,\n",
            "       4.08687964e-02, 4.42519807e-02, 4.91372761e-02, 5.05040939e-02,\n",
            "       4.68231831e-02, 5.25745925e-02, 5.45909590e-02, 5.92732772e-02])]\n",
            "[0.05812302344390674]\n",
            "\n"
          ],
          "name": "stdout"
        }
      ]
    },
    {
      "cell_type": "code",
      "metadata": {
        "colab": {
          "base_uri": "https://localhost:8080/"
        },
        "id": "YVLFVBkfxZhS",
        "outputId": "3ff5472a-c4ba-4619-b5aa-a4c0124e1699"
      },
      "source": [
        "x_train, y_train = np.array(x_train), np.array(y_train)\n",
        "x_train = np.reshape(x_train, (x_train.shape[0], x_train.shape[1], 1))\n",
        "x_train.shape"
      ],
      "execution_count": null,
      "outputs": [
        {
          "output_type": "execute_result",
          "data": {
            "text/plain": [
              "(1526, 60, 1)"
            ]
          },
          "metadata": {
            "tags": []
          },
          "execution_count": 20
        }
      ]
    },
    {
      "cell_type": "code",
      "metadata": {
        "id": "UdilSYqKxcr8"
      },
      "source": [
        "model = Sequential()\n",
        "model.add(LSTM(50, return_sequences=True, input_shape = (x_train.shape[1], 1)))\n",
        "model.add(LSTM(50, return_sequences=False))\n",
        "model.add(Dense(25))\n",
        "model.add(Dense(1))\n",
        "model.compile(optimizer='adam', loss='mean_squared_error')\n"
      ],
      "execution_count": null,
      "outputs": []
    },
    {
      "cell_type": "code",
      "metadata": {
        "colab": {
          "base_uri": "https://localhost:8080/"
        },
        "id": "4dPhYjSOxfDx",
        "outputId": "0ef77b5d-eb01-4381-d810-7f8e97614538"
      },
      "source": [
        "model.fit(x_train, y_train, batch_size=10, epochs=2)"
      ],
      "execution_count": null,
      "outputs": [
        {
          "output_type": "stream",
          "text": [
            "Epoch 1/2\n",
            "153/153 [==============================] - 7s 43ms/step - loss: 9.2449e-04\n",
            "Epoch 2/2\n",
            "153/153 [==============================] - 7s 43ms/step - loss: 7.4991e-04\n"
          ],
          "name": "stdout"
        },
        {
          "output_type": "execute_result",
          "data": {
            "text/plain": [
              "<tensorflow.python.keras.callbacks.History at 0x7f4940d66350>"
            ]
          },
          "metadata": {
            "tags": []
          },
          "execution_count": 27
        }
      ]
    },
    {
      "cell_type": "code",
      "metadata": {
        "id": "QNB2KPwqxgED"
      },
      "source": [
        "test_data = scaled_data[training_data_len - 60: , :]\n",
        "x_test = []\n",
        "y_test = dataset[training_data_len:, :]\n",
        "\n",
        "for j in range(60, len(test_data)):\n",
        "    x_test.append(test_data[j-60:j, 0])\n",
        "x_test = np.array(x_test)\n",
        "x_test = np.reshape(x_test, (x_test.shape[0], x_test.shape[1], 1))\n",
        "predictions = model.predict(x_test)\n",
        "predictions = scaler.inverse_transform(predictions)\n",
        "predictions"
      ],
      "execution_count": null,
      "outputs": []
    },
    {
      "cell_type": "code",
      "metadata": {
        "colab": {
          "base_uri": "https://localhost:8080/"
        },
        "id": "p4emHyOtxmWf",
        "outputId": "4a1678cd-1f63-4581-848b-1585efd8ffbf"
      },
      "source": [
        "rmse = np.sqrt( np.mean( (predictions - y_test)**2))\n",
        "rmse"
      ],
      "execution_count": null,
      "outputs": [
        {
          "output_type": "execute_result",
          "data": {
            "text/plain": [
              "4.1156304670004555"
            ]
          },
          "metadata": {
            "tags": []
          },
          "execution_count": 29
        }
      ]
    },
    {
      "cell_type": "code",
      "metadata": {
        "colab": {
          "base_uri": "https://localhost:8080/",
          "height": 661
        },
        "id": "Y74ulvO1xnZX",
        "outputId": "4f91ba99-e3a3-4ccb-ce73-414c7d0156b9"
      },
      "source": [
        "train = data[:training_data_len]\n",
        "val = data[training_data_len:]\n",
        "val['Predictions'] = predictions\n",
        "\n",
        "plt.figure(figsize=(16,8))\n",
        "plt.title('LSTM Model Data')\n",
        "plt.xlabel('Date', fontsize=16)\n",
        "plt.ylabel('Close Price', fontsize=16)\n",
        "plt.plot(train['close'])\n",
        "plt.plot(val[['close', 'Predictions']])\n",
        "plt.legend(['Trained Dataset', 'Actual Value', 'Predictions'])\n",
        "plt.show()"
      ],
      "execution_count": null,
      "outputs": [
        {
          "output_type": "stream",
          "text": [
            "/usr/local/lib/python3.7/dist-packages/ipykernel_launcher.py:3: SettingWithCopyWarning: \n",
            "A value is trying to be set on a copy of a slice from a DataFrame.\n",
            "Try using .loc[row_indexer,col_indexer] = value instead\n",
            "\n",
            "See the caveats in the documentation: https://pandas.pydata.org/pandas-docs/stable/user_guide/indexing.html#returning-a-view-versus-a-copy\n",
            "  This is separate from the ipykernel package so we can avoid doing imports until\n"
          ],
          "name": "stderr"
        },
        {
          "output_type": "display_data",
          "data": {
            "image/png": "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\n",
            "text/plain": [
              "<Figure size 1152x576 with 1 Axes>"
            ]
          },
          "metadata": {
            "tags": []
          }
        }
      ]
    },
    {
      "cell_type": "code",
      "metadata": {
        "id": "oND6JTLsCjU8"
      },
      "source": [
        ""
      ],
      "execution_count": null,
      "outputs": []
    },
    {
      "cell_type": "code",
      "metadata": {
        "id": "NtrsVlldClBe"
      },
      "source": [
        ""
      ],
      "execution_count": null,
      "outputs": []
    },
    {
      "cell_type": "code",
      "metadata": {
        "id": "milSrLfTClEE"
      },
      "source": [
        ""
      ],
      "execution_count": null,
      "outputs": []
    },
    {
      "cell_type": "code",
      "metadata": {
        "id": "FX0okOCJClJ4"
      },
      "source": [
        ""
      ],
      "execution_count": null,
      "outputs": []
    },
    {
      "cell_type": "code",
      "metadata": {
        "id": "3Fqv2-ERClNL"
      },
      "source": [
        ""
      ],
      "execution_count": null,
      "outputs": []
    },
    {
      "cell_type": "code",
      "metadata": {
        "id": "O8FumVXqClQE"
      },
      "source": [
        ""
      ],
      "execution_count": null,
      "outputs": []
    },
    {
      "cell_type": "code",
      "metadata": {
        "id": "PW6dxCnPClTf"
      },
      "source": [
        ""
      ],
      "execution_count": null,
      "outputs": []
    },
    {
      "cell_type": "code",
      "metadata": {
        "id": "klv9z5rKClVU"
      },
      "source": [
        ""
      ],
      "execution_count": null,
      "outputs": []
    },
    {
      "cell_type": "code",
      "metadata": {
        "id": "5RiuoxDrClX-"
      },
      "source": [
        ""
      ],
      "execution_count": null,
      "outputs": []
    },
    {
      "cell_type": "code",
      "metadata": {
        "id": "2Y-_bC93Clay"
      },
      "source": [
        ""
      ],
      "execution_count": null,
      "outputs": []
    },
    {
      "cell_type": "code",
      "metadata": {
        "id": "QbPuwuuVCldB"
      },
      "source": [
        ""
      ],
      "execution_count": null,
      "outputs": []
    },
    {
      "cell_type": "code",
      "metadata": {
        "id": "SDZJwXymClff"
      },
      "source": [
        ""
      ],
      "execution_count": null,
      "outputs": []
    },
    {
      "cell_type": "code",
      "metadata": {
        "id": "uvkoz2eiCjb3"
      },
      "source": [
        ""
      ],
      "execution_count": null,
      "outputs": []
    },
    {
      "cell_type": "code",
      "metadata": {
        "id": "RyFtFjYcCjh9"
      },
      "source": [
        ""
      ],
      "execution_count": null,
      "outputs": []
    },
    {
      "cell_type": "code",
      "metadata": {
        "id": "zZTq9V4HCjnq"
      },
      "source": [
        ""
      ],
      "execution_count": null,
      "outputs": []
    },
    {
      "cell_type": "code",
      "metadata": {
        "id": "C0lL3J_6ChmP"
      },
      "source": [
        ""
      ],
      "execution_count": null,
      "outputs": []
    },
    {
      "cell_type": "code",
      "metadata": {
        "colab": {
          "base_uri": "https://localhost:8080/"
        },
        "id": "cKZk_3AIuEZb",
        "outputId": "aac710b2-bcf8-4c7a-e5fb-26967fcac161"
      },
      "source": [
        "ensemble_prediction = 0\n",
        "\n",
        "def cross_Validation(data):\n",
        "    count = 0\n",
        "    total = 0\n",
        "    num_train = 10\n",
        "    len_train = 40\n",
        "    rf_RESULTS = []\n",
        "    knn_RESULTS = []\n",
        "    #cat_RESULTS = []\n",
        "    xg_RESULTS = []\n",
        "    gb_RESULTS = []\n",
        "    ensemble_RESULTS = []\n",
        "    \n",
        "    i = 0\n",
        "    \n",
        "    rf = RandomForestClassifier()\n",
        "    knn = KNeighborsClassifier()\n",
        "    xg = XGBClassifier()\n",
        "    #cat = CatBoostClassifier()\n",
        "    gb= GradientBoostingClassifier()\n",
        "    estimators=[('knn', knn), ('rf', rf) , ('xg',xg) ]\n",
        "    ensemble = VotingClassifier(estimators, voting='hard')\n",
        "    \n",
        "    while True:\n",
        "        df = data.iloc[i * num_train : (i * num_train) + len_train]\n",
        "        i += 1\n",
        "        if len(df) < 20:\n",
        "            break\n",
        "        y = df['pred']\n",
        "        features = [x for x in df.columns if x not in ['pred']]\n",
        "        X = df[features]\n",
        "        X_train, X_test, y_train, y_test = train_test_split(X, y, train_size= 0.8,shuffle = False)\n",
        "        rf.fit(X_train, y_train)\n",
        "        rf_prediction = rf.predict(X_test)\n",
        "        rf_accuracy = accuracy_score(y_test.values, rf_prediction)\n",
        "        rf_RESULTS.append(rf_accuracy)\n",
        "\n",
        "        knn.fit(X_train, y_train)\n",
        "        knn_prediction = knn.predict(X_test)\n",
        "        knn_accuracy = accuracy_score(y_test.values, knn_prediction)\n",
        "        knn_RESULTS.append(knn_accuracy)\n",
        "        \n",
        "        xg.fit(X_train, y_train)\n",
        "        xg_prediction = xg.predict(X_test)\n",
        "        xg_accuracy = accuracy_score(y_test.values, xg_prediction)\n",
        "        xg_RESULTS.append(xg_accuracy)\n",
        "        ensemble.fit(X_train, y_train)\n",
        "        ensemble_prediction = ensemble.predict(X_test)\n",
        "        ensemble_accuracy = accuracy_score(y_test.values, ensemble_prediction)\n",
        "        ensemble_RESULTS.append(ensemble_accuracy)\n",
        "        \"\"\" try:\n",
        "          \n",
        "          gb.fit(X_train, y_train)\n",
        "          gb_prediction = gb.predict(X_test)\n",
        "          gb_accuracy = accuracy_score(y_test.values, gb_prediction)\n",
        "          gb_RESULTS.append(gb_accuracy)\n",
        "          per_X_train = X_train\n",
        "          per_y_train = y_train\n",
        "\n",
        "          \n",
        "\n",
        "        except:\n",
        "          if 'per_X_train' in locals():\n",
        "            gb.fit(per_X_train, per_y_train)\n",
        "            ensemble.fit(per_X_train, per_y_train)\n",
        "            ensemble_prediction = ensemble.predict(X_test)\n",
        "            ensemble_accuracy = accuracy_score(y_test.values, ensemble_prediction)\n",
        "            ensemble_RESULTS.append(ensemble_accuracy)   \n",
        "            count+=1\n",
        "            \n",
        "        cat.fit(X_train, y_train)\n",
        "        cat_prediction = cat.predict(X_test)\n",
        "        cat_accuracy = accuracy_score(y_test.values, cat_prediction)\n",
        "        cat_RESULTS.append(cat_accuracy)\n",
        "        \"\"\"       \n",
        "    \n",
        "    print('RF Accuracy = ' + str( sum(rf_RESULTS) / len(rf_RESULTS)))\n",
        "    print('KNN Accuracy = ' + str( sum(knn_RESULTS) / len(knn_RESULTS)))\n",
        "    print('XG Accuracy = ' + str( sum(xg_RESULTS) / len(xg_RESULTS)))\n",
        "    #print('CAT Accuracy = ' + str( sum(cat_RESULTS) / len(cat_RESULTS)))\n",
        "    #print('GB Accuracy = ' + str( sum(gb_RESULTS) / len(gb_RESULTS)))\n",
        "    print('ENSEMBLE Accuracy = ' + str( sum(ensemble_RESULTS) / len(ensemble_RESULTS)))\n",
        "    return ensemble\n",
        "    \n",
        "ensemble = cross_Validation(data)\n"
      ],
      "execution_count": null,
      "outputs": [
        {
          "output_type": "stream",
          "text": [
            "RF Accuracy = 0.8317518248175182\n",
            "KNN Accuracy = 0.7708029197080292\n",
            "XG Accuracy = 0.7861313868613139\n",
            "ENSEMBLE Accuracy = 0.8003649635036496\n"
          ],
          "name": "stdout"
        }
      ]
    }
  ]
}
